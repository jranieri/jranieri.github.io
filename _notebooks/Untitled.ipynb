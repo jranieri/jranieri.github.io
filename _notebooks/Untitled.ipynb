{
 "cells": [
  {
   "cell_type": "code",
   "execution_count": 1,
   "metadata": {
    "collapsed": true
   },
   "outputs": [],
   "source": [
    "# Test of the file\n",
    "import math\n"
   ]
  },
  {
   "cell_type": "markdown",
   "metadata": {},
   "source": [
    "*How does it looks like*\n",
    "\n",
    "**Bold**\n",
    "\n",
    "\n",
    "$$\\phi(x,y)$$\n"
   ]
  },
  {
   "cell_type": "code",
   "execution_count": 2,
   "metadata": {
    "collapsed": true
   },
   "outputs": [],
   "source": [
    "class points():\n",
    "    \n",
    "    def __init__(self, N):\n",
    "        self.N=N\n",
    "        self.points=Set([])\n",
    "        \n",
    "    def addPoints(self,x,y):\n",
    "        self.points.add([x,y])\n",
    "        \n",
    "    def compute_distances(self):\n",
    "        self.distances=Set([])\n",
    "        for i in self.points:\n",
    "            for j in self.points:\n",
    "                self.distances.add(abs(i[0]-i[1]))\n",
    "                \n",
    "                "
   ]
  },
  {
   "cell_type": "code",
   "execution_count": null,
   "metadata": {
    "collapsed": true
   },
   "outputs": [],
   "source": []
  }
 ],
 "metadata": {
  "kernelspec": {
   "display_name": "Python 2",
   "language": "python",
   "name": "python2"
  },
  "language_info": {
   "codemirror_mode": {
    "name": "ipython",
    "version": 2
   },
   "file_extension": ".py",
   "mimetype": "text/x-python",
   "name": "python",
   "nbconvert_exporter": "python",
   "pygments_lexer": "ipython2",
   "version": "2.7.6"
  }
 },
 "nbformat": 4,
 "nbformat_minor": 0
}
